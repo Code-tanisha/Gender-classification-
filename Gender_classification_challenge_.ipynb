{
  "nbformat": 4,
  "nbformat_minor": 0,
  "metadata": {
    "colab": {
      "name": "Gender classification challenge .ipynb",
      "provenance": [],
      "authorship_tag": "ABX9TyPjSJJSiizaZRzqA+CGdzb5",
      "include_colab_link": true
    },
    "kernelspec": {
      "name": "python3",
      "display_name": "Python 3"
    }
  },
  "cells": [
    {
      "cell_type": "markdown",
      "metadata": {
        "id": "view-in-github",
        "colab_type": "text"
      },
      "source": [
        "<a href=\"https://colab.research.google.com/github/Tanisha2910/Gender-classification-/blob/master/Gender_classification_challenge_.ipynb\" target=\"_parent\"><img src=\"https://colab.research.google.com/assets/colab-badge.svg\" alt=\"Open In Colab\"/></a>"
      ]
    },
    {
      "cell_type": "markdown",
      "metadata": {
        "id": "xe6TcjGTa7RV",
        "colab_type": "text"
      },
      "source": [
        "The code uses the scikit-learn machine learning library to train 8 classifiers on a small dataset of body metrics (height, width, and shoe size) labeled male or female.\n",
        "\n",
        "Decision Trees (DTs)\n",
        "\n",
        "Support Vector Machines SVMs:\n",
        "\n",
        "Stochastic Gradient Descent:\n",
        "\n",
        "Nearest Neighbors Classification:\n",
        "\n",
        "Gaussian Process Classification (GPC):\n",
        "\n",
        "Gradient Tree Boosting\n",
        "\n",
        "Perceptron\n",
        "\n",
        "Gaussian Naive Bayes (GaussianNB)"
      ]
    },
    {
      "cell_type": "code",
      "metadata": {
        "id": "PSqw1IwIa9cq",
        "colab_type": "code",
        "colab": {}
      },
      "source": [
        "import numpy as np\n",
        "from sklearn import tree, svm, neighbors\n",
        "from sklearn.linear_model import SGDClassifier, perceptron\n",
        "from sklearn.gaussian_process import GaussianProcessClassifier\n",
        "from sklearn.ensemble import GradientBoostingClassifier\n",
        "from sklearn.naive_bayes import GaussianNB\n",
        "from sklearn.metrics import accuracy_score\n"
      ],
      "execution_count": 0,
      "outputs": []
    },
    {
      "cell_type": "code",
      "metadata": {
        "id": "QuYQoDYkcd8C",
        "colab_type": "code",
        "colab": {
          "base_uri": "https://localhost:8080/",
          "height": 136
        },
        "outputId": "831c5d62-2b70-43c9-fe2b-139b5a8c6a9a"
      },
      "source": [
        "# Feature[height, weight, shoe size]\n",
        "X = [[181, 80, 44], [177, 70, 43], [160, 60, 38], [154, 54, 37], [166, 65, 40],\n",
        "     [190, 90, 47], [175, 64, 39],\n",
        "     [177, 70, 40], [159, 55, 37], [171, 75, 42], [181, 85, 43]]\n",
        "\n",
        "# Labels\n",
        "Y = ['male', 'male', 'female', 'female', 'male', 'male', 'female', 'female',\n",
        "     'female', 'male', 'male']\n",
        "\n",
        "\n",
        "# CHALLENGE ----\n",
        "\n",
        "_X=[[184,84,44],[198,92,48],[183,83,44],[166,47,36],[170,60,38],[172,64,39],[182,80,42],[180,80,43]]\n",
        "_Y=['male','male','male','female','female','female','male','male']\n",
        "\n",
        "algorithms = [['DecisionTreeClassifier',tree.DecisionTreeClassifier()], \n",
        "              ['svm ',svm.SVC()], \n",
        "              ['SGDClassifier',SGDClassifier(loss=\"hinge\", penalty=\"l2\")], \n",
        "              ['KNeighborsClassifier',neighbors.KNeighborsClassifier(n_neighbors=5, weights='uniform')],\n",
        "              ['GaussianProcessClassifier',GaussianProcessClassifier()],\n",
        "              ['GradientBoostingClassifier',GradientBoostingClassifier(n_estimators=100, learning_rate=1.0, max_depth=1, random_state=0)],\n",
        "              ['GaussianNB',GaussianNB()]\n",
        "             ]\n",
        "\n",
        "for a, alg in algorithms:\n",
        "    alg.fit(X, Y)\n",
        "    y_pred = alg.predict(_X)\n",
        "    acc_score = accuracy_score(_Y, y_pred) * 100\n",
        "    print(a,': {0:.2f}%'.format(acc_score))"
      ],
      "execution_count": 11,
      "outputs": [
        {
          "output_type": "stream",
          "text": [
            "DecisionTreeClassifier : 100.00%\n",
            "svm  : 62.50%\n",
            "SGDClassifier : 62.50%\n",
            "KNeighborsClassifier : 87.50%\n",
            "GaussianProcessClassifier : 100.00%\n",
            "GradientBoostingClassifier : 100.00%\n",
            "GaussianNB : 100.00%\n"
          ],
          "name": "stdout"
        }
      ]
    }
  ]
}